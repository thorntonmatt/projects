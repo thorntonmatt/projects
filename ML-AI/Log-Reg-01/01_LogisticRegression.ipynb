{
  "nbformat": 4,
  "nbformat_minor": 0,
  "metadata": {
    "colab": {
      "provenance": []
    },
    "kernelspec": {
      "name": "python3",
      "display_name": "Python 3"
    },
    "language_info": {
      "name": "python"
    }
  },
  "cells": [
    {
      "cell_type": "code",
      "execution_count": 1,
      "metadata": {
        "colab": {
          "base_uri": "https://localhost:8080/",
          "height": 206
        },
        "id": "dlphzXud2Yxe",
        "outputId": "90fb89ed-866a-42fa-fd54-c3c0777e168c"
      },
      "outputs": [
        {
          "output_type": "execute_result",
          "data": {
            "text/plain": [
              "   Income  Loan Amount Default\n",
              "0      30            8      No\n",
              "1      22           10      No\n",
              "2      33           12      No\n",
              "3      28           20      No\n",
              "4      23           32      No"
            ],
            "text/html": [
              "\n",
              "  <div id=\"df-03f8f082-3268-4c14-a804-5d6935cbc3ce\" class=\"colab-df-container\">\n",
              "    <div>\n",
              "<style scoped>\n",
              "    .dataframe tbody tr th:only-of-type {\n",
              "        vertical-align: middle;\n",
              "    }\n",
              "\n",
              "    .dataframe tbody tr th {\n",
              "        vertical-align: top;\n",
              "    }\n",
              "\n",
              "    .dataframe thead th {\n",
              "        text-align: right;\n",
              "    }\n",
              "</style>\n",
              "<table border=\"1\" class=\"dataframe\">\n",
              "  <thead>\n",
              "    <tr style=\"text-align: right;\">\n",
              "      <th></th>\n",
              "      <th>Income</th>\n",
              "      <th>Loan Amount</th>\n",
              "      <th>Default</th>\n",
              "    </tr>\n",
              "  </thead>\n",
              "  <tbody>\n",
              "    <tr>\n",
              "      <th>0</th>\n",
              "      <td>30</td>\n",
              "      <td>8</td>\n",
              "      <td>No</td>\n",
              "    </tr>\n",
              "    <tr>\n",
              "      <th>1</th>\n",
              "      <td>22</td>\n",
              "      <td>10</td>\n",
              "      <td>No</td>\n",
              "    </tr>\n",
              "    <tr>\n",
              "      <th>2</th>\n",
              "      <td>33</td>\n",
              "      <td>12</td>\n",
              "      <td>No</td>\n",
              "    </tr>\n",
              "    <tr>\n",
              "      <th>3</th>\n",
              "      <td>28</td>\n",
              "      <td>20</td>\n",
              "      <td>No</td>\n",
              "    </tr>\n",
              "    <tr>\n",
              "      <th>4</th>\n",
              "      <td>23</td>\n",
              "      <td>32</td>\n",
              "      <td>No</td>\n",
              "    </tr>\n",
              "  </tbody>\n",
              "</table>\n",
              "</div>\n",
              "    <div class=\"colab-df-buttons\">\n",
              "\n",
              "  <div class=\"colab-df-container\">\n",
              "    <button class=\"colab-df-convert\" onclick=\"convertToInteractive('df-03f8f082-3268-4c14-a804-5d6935cbc3ce')\"\n",
              "            title=\"Convert this dataframe to an interactive table.\"\n",
              "            style=\"display:none;\">\n",
              "\n",
              "  <svg xmlns=\"http://www.w3.org/2000/svg\" height=\"24px\" viewBox=\"0 -960 960 960\">\n",
              "    <path d=\"M120-120v-720h720v720H120Zm60-500h600v-160H180v160Zm220 220h160v-160H400v160Zm0 220h160v-160H400v160ZM180-400h160v-160H180v160Zm440 0h160v-160H620v160ZM180-180h160v-160H180v160Zm440 0h160v-160H620v160Z\"/>\n",
              "  </svg>\n",
              "    </button>\n",
              "\n",
              "  <style>\n",
              "    .colab-df-container {\n",
              "      display:flex;\n",
              "      gap: 12px;\n",
              "    }\n",
              "\n",
              "    .colab-df-convert {\n",
              "      background-color: #E8F0FE;\n",
              "      border: none;\n",
              "      border-radius: 50%;\n",
              "      cursor: pointer;\n",
              "      display: none;\n",
              "      fill: #1967D2;\n",
              "      height: 32px;\n",
              "      padding: 0 0 0 0;\n",
              "      width: 32px;\n",
              "    }\n",
              "\n",
              "    .colab-df-convert:hover {\n",
              "      background-color: #E2EBFA;\n",
              "      box-shadow: 0px 1px 2px rgba(60, 64, 67, 0.3), 0px 1px 3px 1px rgba(60, 64, 67, 0.15);\n",
              "      fill: #174EA6;\n",
              "    }\n",
              "\n",
              "    .colab-df-buttons div {\n",
              "      margin-bottom: 4px;\n",
              "    }\n",
              "\n",
              "    [theme=dark] .colab-df-convert {\n",
              "      background-color: #3B4455;\n",
              "      fill: #D2E3FC;\n",
              "    }\n",
              "\n",
              "    [theme=dark] .colab-df-convert:hover {\n",
              "      background-color: #434B5C;\n",
              "      box-shadow: 0px 1px 3px 1px rgba(0, 0, 0, 0.15);\n",
              "      filter: drop-shadow(0px 1px 2px rgba(0, 0, 0, 0.3));\n",
              "      fill: #FFFFFF;\n",
              "    }\n",
              "  </style>\n",
              "\n",
              "    <script>\n",
              "      const buttonEl =\n",
              "        document.querySelector('#df-03f8f082-3268-4c14-a804-5d6935cbc3ce button.colab-df-convert');\n",
              "      buttonEl.style.display =\n",
              "        google.colab.kernel.accessAllowed ? 'block' : 'none';\n",
              "\n",
              "      async function convertToInteractive(key) {\n",
              "        const element = document.querySelector('#df-03f8f082-3268-4c14-a804-5d6935cbc3ce');\n",
              "        const dataTable =\n",
              "          await google.colab.kernel.invokeFunction('convertToInteractive',\n",
              "                                                    [key], {});\n",
              "        if (!dataTable) return;\n",
              "\n",
              "        const docLinkHtml = 'Like what you see? Visit the ' +\n",
              "          '<a target=\"_blank\" href=https://colab.research.google.com/notebooks/data_table.ipynb>data table notebook</a>'\n",
              "          + ' to learn more about interactive tables.';\n",
              "        element.innerHTML = '';\n",
              "        dataTable['output_type'] = 'display_data';\n",
              "        await google.colab.output.renderOutput(dataTable, element);\n",
              "        const docLink = document.createElement('div');\n",
              "        docLink.innerHTML = docLinkHtml;\n",
              "        element.appendChild(docLink);\n",
              "      }\n",
              "    </script>\n",
              "  </div>\n",
              "\n",
              "\n",
              "    <div id=\"df-c74bdb18-317f-4087-a282-449af4d4b6e9\">\n",
              "      <button class=\"colab-df-quickchart\" onclick=\"quickchart('df-c74bdb18-317f-4087-a282-449af4d4b6e9')\"\n",
              "                title=\"Suggest charts\"\n",
              "                style=\"display:none;\">\n",
              "\n",
              "<svg xmlns=\"http://www.w3.org/2000/svg\" height=\"24px\"viewBox=\"0 0 24 24\"\n",
              "     width=\"24px\">\n",
              "    <g>\n",
              "        <path d=\"M19 3H5c-1.1 0-2 .9-2 2v14c0 1.1.9 2 2 2h14c1.1 0 2-.9 2-2V5c0-1.1-.9-2-2-2zM9 17H7v-7h2v7zm4 0h-2V7h2v10zm4 0h-2v-4h2v4z\"/>\n",
              "    </g>\n",
              "</svg>\n",
              "      </button>\n",
              "\n",
              "<style>\n",
              "  .colab-df-quickchart {\n",
              "      --bg-color: #E8F0FE;\n",
              "      --fill-color: #1967D2;\n",
              "      --hover-bg-color: #E2EBFA;\n",
              "      --hover-fill-color: #174EA6;\n",
              "      --disabled-fill-color: #AAA;\n",
              "      --disabled-bg-color: #DDD;\n",
              "  }\n",
              "\n",
              "  [theme=dark] .colab-df-quickchart {\n",
              "      --bg-color: #3B4455;\n",
              "      --fill-color: #D2E3FC;\n",
              "      --hover-bg-color: #434B5C;\n",
              "      --hover-fill-color: #FFFFFF;\n",
              "      --disabled-bg-color: #3B4455;\n",
              "      --disabled-fill-color: #666;\n",
              "  }\n",
              "\n",
              "  .colab-df-quickchart {\n",
              "    background-color: var(--bg-color);\n",
              "    border: none;\n",
              "    border-radius: 50%;\n",
              "    cursor: pointer;\n",
              "    display: none;\n",
              "    fill: var(--fill-color);\n",
              "    height: 32px;\n",
              "    padding: 0;\n",
              "    width: 32px;\n",
              "  }\n",
              "\n",
              "  .colab-df-quickchart:hover {\n",
              "    background-color: var(--hover-bg-color);\n",
              "    box-shadow: 0 1px 2px rgba(60, 64, 67, 0.3), 0 1px 3px 1px rgba(60, 64, 67, 0.15);\n",
              "    fill: var(--button-hover-fill-color);\n",
              "  }\n",
              "\n",
              "  .colab-df-quickchart-complete:disabled,\n",
              "  .colab-df-quickchart-complete:disabled:hover {\n",
              "    background-color: var(--disabled-bg-color);\n",
              "    fill: var(--disabled-fill-color);\n",
              "    box-shadow: none;\n",
              "  }\n",
              "\n",
              "  .colab-df-spinner {\n",
              "    border: 2px solid var(--fill-color);\n",
              "    border-color: transparent;\n",
              "    border-bottom-color: var(--fill-color);\n",
              "    animation:\n",
              "      spin 1s steps(1) infinite;\n",
              "  }\n",
              "\n",
              "  @keyframes spin {\n",
              "    0% {\n",
              "      border-color: transparent;\n",
              "      border-bottom-color: var(--fill-color);\n",
              "      border-left-color: var(--fill-color);\n",
              "    }\n",
              "    20% {\n",
              "      border-color: transparent;\n",
              "      border-left-color: var(--fill-color);\n",
              "      border-top-color: var(--fill-color);\n",
              "    }\n",
              "    30% {\n",
              "      border-color: transparent;\n",
              "      border-left-color: var(--fill-color);\n",
              "      border-top-color: var(--fill-color);\n",
              "      border-right-color: var(--fill-color);\n",
              "    }\n",
              "    40% {\n",
              "      border-color: transparent;\n",
              "      border-right-color: var(--fill-color);\n",
              "      border-top-color: var(--fill-color);\n",
              "    }\n",
              "    60% {\n",
              "      border-color: transparent;\n",
              "      border-right-color: var(--fill-color);\n",
              "    }\n",
              "    80% {\n",
              "      border-color: transparent;\n",
              "      border-right-color: var(--fill-color);\n",
              "      border-bottom-color: var(--fill-color);\n",
              "    }\n",
              "    90% {\n",
              "      border-color: transparent;\n",
              "      border-bottom-color: var(--fill-color);\n",
              "    }\n",
              "  }\n",
              "</style>\n",
              "\n",
              "      <script>\n",
              "        async function quickchart(key) {\n",
              "          const quickchartButtonEl =\n",
              "            document.querySelector('#' + key + ' button');\n",
              "          quickchartButtonEl.disabled = true;  // To prevent multiple clicks.\n",
              "          quickchartButtonEl.classList.add('colab-df-spinner');\n",
              "          try {\n",
              "            const charts = await google.colab.kernel.invokeFunction(\n",
              "                'suggestCharts', [key], {});\n",
              "          } catch (error) {\n",
              "            console.error('Error during call to suggestCharts:', error);\n",
              "          }\n",
              "          quickchartButtonEl.classList.remove('colab-df-spinner');\n",
              "          quickchartButtonEl.classList.add('colab-df-quickchart-complete');\n",
              "        }\n",
              "        (() => {\n",
              "          let quickchartButtonEl =\n",
              "            document.querySelector('#df-c74bdb18-317f-4087-a282-449af4d4b6e9 button');\n",
              "          quickchartButtonEl.style.display =\n",
              "            google.colab.kernel.accessAllowed ? 'block' : 'none';\n",
              "        })();\n",
              "      </script>\n",
              "    </div>\n",
              "\n",
              "    </div>\n",
              "  </div>\n"
            ],
            "application/vnd.google.colaboratory.intrinsic+json": {
              "type": "dataframe",
              "variable_name": "loan",
              "summary": "{\n  \"name\": \"loan\",\n  \"rows\": 30,\n  \"fields\": [\n    {\n      \"column\": \"Income\",\n      \"properties\": {\n        \"dtype\": \"number\",\n        \"std\": 6,\n        \"min\": 12,\n        \"max\": 34,\n        \"num_unique_values\": 17,\n        \"samples\": [\n          30,\n          22,\n          34\n        ],\n        \"semantic_type\": \"\",\n        \"description\": \"\"\n      }\n    },\n    {\n      \"column\": \"Loan Amount\",\n      \"properties\": {\n        \"dtype\": \"number\",\n        \"std\": 28,\n        \"min\": 8,\n        \"max\": 110,\n        \"num_unique_values\": 27,\n        \"samples\": [\n          70,\n          62,\n          45\n        ],\n        \"semantic_type\": \"\",\n        \"description\": \"\"\n      }\n    },\n    {\n      \"column\": \"Default\",\n      \"properties\": {\n        \"dtype\": \"category\",\n        \"num_unique_values\": 2,\n        \"samples\": [\n          \"Yes\",\n          \"No\"\n        ],\n        \"semantic_type\": \"\",\n        \"description\": \"\"\n      }\n    }\n  ]\n}"
            }
          },
          "metadata": {},
          "execution_count": 1
        }
      ],
      "source": [
        "import pandas as pd\n",
        "loan = pd.read_csv('/content/sample_data/loan.csv')\n",
        "loan.head()"
      ]
    },
    {
      "cell_type": "code",
      "source": [
        "loan.info()"
      ],
      "metadata": {
        "colab": {
          "base_uri": "https://localhost:8080/"
        },
        "id": "BL7Hwg8s8Aq2",
        "outputId": "fe19c0bc-2c55-46b8-86ae-da895fa67cc4"
      },
      "execution_count": 2,
      "outputs": [
        {
          "output_type": "stream",
          "name": "stdout",
          "text": [
            "<class 'pandas.core.frame.DataFrame'>\n",
            "RangeIndex: 30 entries, 0 to 29\n",
            "Data columns (total 3 columns):\n",
            " #   Column       Non-Null Count  Dtype \n",
            "---  ------       --------------  ----- \n",
            " 0   Income       30 non-null     int64 \n",
            " 1   Loan Amount  30 non-null     int64 \n",
            " 2   Default      30 non-null     object\n",
            "dtypes: int64(2), object(1)\n",
            "memory usage: 852.0+ bytes\n"
          ]
        }
      ]
    },
    {
      "cell_type": "code",
      "source": [
        "loan.describe()"
      ],
      "metadata": {
        "colab": {
          "base_uri": "https://localhost:8080/",
          "height": 300
        },
        "id": "rSexrkFq8ELG",
        "outputId": "abcd51f0-4545-4d01-8281-d0869b1543ea"
      },
      "execution_count": 3,
      "outputs": [
        {
          "output_type": "execute_result",
          "data": {
            "text/plain": [
              "          Income  Loan Amount\n",
              "count  30.000000    30.000000\n",
              "mean   20.966667    54.233333\n",
              "std     6.195011    28.231412\n",
              "min    12.000000     8.000000\n",
              "25%    16.250000    32.000000\n",
              "50%    20.500000    54.500000\n",
              "75%    24.750000    71.750000\n",
              "max    34.000000   110.000000"
            ],
            "text/html": [
              "\n",
              "  <div id=\"df-86d37cf8-9c06-467d-84bb-57d409f5a9eb\" class=\"colab-df-container\">\n",
              "    <div>\n",
              "<style scoped>\n",
              "    .dataframe tbody tr th:only-of-type {\n",
              "        vertical-align: middle;\n",
              "    }\n",
              "\n",
              "    .dataframe tbody tr th {\n",
              "        vertical-align: top;\n",
              "    }\n",
              "\n",
              "    .dataframe thead th {\n",
              "        text-align: right;\n",
              "    }\n",
              "</style>\n",
              "<table border=\"1\" class=\"dataframe\">\n",
              "  <thead>\n",
              "    <tr style=\"text-align: right;\">\n",
              "      <th></th>\n",
              "      <th>Income</th>\n",
              "      <th>Loan Amount</th>\n",
              "    </tr>\n",
              "  </thead>\n",
              "  <tbody>\n",
              "    <tr>\n",
              "      <th>count</th>\n",
              "      <td>30.000000</td>\n",
              "      <td>30.000000</td>\n",
              "    </tr>\n",
              "    <tr>\n",
              "      <th>mean</th>\n",
              "      <td>20.966667</td>\n",
              "      <td>54.233333</td>\n",
              "    </tr>\n",
              "    <tr>\n",
              "      <th>std</th>\n",
              "      <td>6.195011</td>\n",
              "      <td>28.231412</td>\n",
              "    </tr>\n",
              "    <tr>\n",
              "      <th>min</th>\n",
              "      <td>12.000000</td>\n",
              "      <td>8.000000</td>\n",
              "    </tr>\n",
              "    <tr>\n",
              "      <th>25%</th>\n",
              "      <td>16.250000</td>\n",
              "      <td>32.000000</td>\n",
              "    </tr>\n",
              "    <tr>\n",
              "      <th>50%</th>\n",
              "      <td>20.500000</td>\n",
              "      <td>54.500000</td>\n",
              "    </tr>\n",
              "    <tr>\n",
              "      <th>75%</th>\n",
              "      <td>24.750000</td>\n",
              "      <td>71.750000</td>\n",
              "    </tr>\n",
              "    <tr>\n",
              "      <th>max</th>\n",
              "      <td>34.000000</td>\n",
              "      <td>110.000000</td>\n",
              "    </tr>\n",
              "  </tbody>\n",
              "</table>\n",
              "</div>\n",
              "    <div class=\"colab-df-buttons\">\n",
              "\n",
              "  <div class=\"colab-df-container\">\n",
              "    <button class=\"colab-df-convert\" onclick=\"convertToInteractive('df-86d37cf8-9c06-467d-84bb-57d409f5a9eb')\"\n",
              "            title=\"Convert this dataframe to an interactive table.\"\n",
              "            style=\"display:none;\">\n",
              "\n",
              "  <svg xmlns=\"http://www.w3.org/2000/svg\" height=\"24px\" viewBox=\"0 -960 960 960\">\n",
              "    <path d=\"M120-120v-720h720v720H120Zm60-500h600v-160H180v160Zm220 220h160v-160H400v160Zm0 220h160v-160H400v160ZM180-400h160v-160H180v160Zm440 0h160v-160H620v160ZM180-180h160v-160H180v160Zm440 0h160v-160H620v160Z\"/>\n",
              "  </svg>\n",
              "    </button>\n",
              "\n",
              "  <style>\n",
              "    .colab-df-container {\n",
              "      display:flex;\n",
              "      gap: 12px;\n",
              "    }\n",
              "\n",
              "    .colab-df-convert {\n",
              "      background-color: #E8F0FE;\n",
              "      border: none;\n",
              "      border-radius: 50%;\n",
              "      cursor: pointer;\n",
              "      display: none;\n",
              "      fill: #1967D2;\n",
              "      height: 32px;\n",
              "      padding: 0 0 0 0;\n",
              "      width: 32px;\n",
              "    }\n",
              "\n",
              "    .colab-df-convert:hover {\n",
              "      background-color: #E2EBFA;\n",
              "      box-shadow: 0px 1px 2px rgba(60, 64, 67, 0.3), 0px 1px 3px 1px rgba(60, 64, 67, 0.15);\n",
              "      fill: #174EA6;\n",
              "    }\n",
              "\n",
              "    .colab-df-buttons div {\n",
              "      margin-bottom: 4px;\n",
              "    }\n",
              "\n",
              "    [theme=dark] .colab-df-convert {\n",
              "      background-color: #3B4455;\n",
              "      fill: #D2E3FC;\n",
              "    }\n",
              "\n",
              "    [theme=dark] .colab-df-convert:hover {\n",
              "      background-color: #434B5C;\n",
              "      box-shadow: 0px 1px 3px 1px rgba(0, 0, 0, 0.15);\n",
              "      filter: drop-shadow(0px 1px 2px rgba(0, 0, 0, 0.3));\n",
              "      fill: #FFFFFF;\n",
              "    }\n",
              "  </style>\n",
              "\n",
              "    <script>\n",
              "      const buttonEl =\n",
              "        document.querySelector('#df-86d37cf8-9c06-467d-84bb-57d409f5a9eb button.colab-df-convert');\n",
              "      buttonEl.style.display =\n",
              "        google.colab.kernel.accessAllowed ? 'block' : 'none';\n",
              "\n",
              "      async function convertToInteractive(key) {\n",
              "        const element = document.querySelector('#df-86d37cf8-9c06-467d-84bb-57d409f5a9eb');\n",
              "        const dataTable =\n",
              "          await google.colab.kernel.invokeFunction('convertToInteractive',\n",
              "                                                    [key], {});\n",
              "        if (!dataTable) return;\n",
              "\n",
              "        const docLinkHtml = 'Like what you see? Visit the ' +\n",
              "          '<a target=\"_blank\" href=https://colab.research.google.com/notebooks/data_table.ipynb>data table notebook</a>'\n",
              "          + ' to learn more about interactive tables.';\n",
              "        element.innerHTML = '';\n",
              "        dataTable['output_type'] = 'display_data';\n",
              "        await google.colab.output.renderOutput(dataTable, element);\n",
              "        const docLink = document.createElement('div');\n",
              "        docLink.innerHTML = docLinkHtml;\n",
              "        element.appendChild(docLink);\n",
              "      }\n",
              "    </script>\n",
              "  </div>\n",
              "\n",
              "\n",
              "    <div id=\"df-1d79adab-fc50-44da-94be-aecbb7e4a608\">\n",
              "      <button class=\"colab-df-quickchart\" onclick=\"quickchart('df-1d79adab-fc50-44da-94be-aecbb7e4a608')\"\n",
              "                title=\"Suggest charts\"\n",
              "                style=\"display:none;\">\n",
              "\n",
              "<svg xmlns=\"http://www.w3.org/2000/svg\" height=\"24px\"viewBox=\"0 0 24 24\"\n",
              "     width=\"24px\">\n",
              "    <g>\n",
              "        <path d=\"M19 3H5c-1.1 0-2 .9-2 2v14c0 1.1.9 2 2 2h14c1.1 0 2-.9 2-2V5c0-1.1-.9-2-2-2zM9 17H7v-7h2v7zm4 0h-2V7h2v10zm4 0h-2v-4h2v4z\"/>\n",
              "    </g>\n",
              "</svg>\n",
              "      </button>\n",
              "\n",
              "<style>\n",
              "  .colab-df-quickchart {\n",
              "      --bg-color: #E8F0FE;\n",
              "      --fill-color: #1967D2;\n",
              "      --hover-bg-color: #E2EBFA;\n",
              "      --hover-fill-color: #174EA6;\n",
              "      --disabled-fill-color: #AAA;\n",
              "      --disabled-bg-color: #DDD;\n",
              "  }\n",
              "\n",
              "  [theme=dark] .colab-df-quickchart {\n",
              "      --bg-color: #3B4455;\n",
              "      --fill-color: #D2E3FC;\n",
              "      --hover-bg-color: #434B5C;\n",
              "      --hover-fill-color: #FFFFFF;\n",
              "      --disabled-bg-color: #3B4455;\n",
              "      --disabled-fill-color: #666;\n",
              "  }\n",
              "\n",
              "  .colab-df-quickchart {\n",
              "    background-color: var(--bg-color);\n",
              "    border: none;\n",
              "    border-radius: 50%;\n",
              "    cursor: pointer;\n",
              "    display: none;\n",
              "    fill: var(--fill-color);\n",
              "    height: 32px;\n",
              "    padding: 0;\n",
              "    width: 32px;\n",
              "  }\n",
              "\n",
              "  .colab-df-quickchart:hover {\n",
              "    background-color: var(--hover-bg-color);\n",
              "    box-shadow: 0 1px 2px rgba(60, 64, 67, 0.3), 0 1px 3px 1px rgba(60, 64, 67, 0.15);\n",
              "    fill: var(--button-hover-fill-color);\n",
              "  }\n",
              "\n",
              "  .colab-df-quickchart-complete:disabled,\n",
              "  .colab-df-quickchart-complete:disabled:hover {\n",
              "    background-color: var(--disabled-bg-color);\n",
              "    fill: var(--disabled-fill-color);\n",
              "    box-shadow: none;\n",
              "  }\n",
              "\n",
              "  .colab-df-spinner {\n",
              "    border: 2px solid var(--fill-color);\n",
              "    border-color: transparent;\n",
              "    border-bottom-color: var(--fill-color);\n",
              "    animation:\n",
              "      spin 1s steps(1) infinite;\n",
              "  }\n",
              "\n",
              "  @keyframes spin {\n",
              "    0% {\n",
              "      border-color: transparent;\n",
              "      border-bottom-color: var(--fill-color);\n",
              "      border-left-color: var(--fill-color);\n",
              "    }\n",
              "    20% {\n",
              "      border-color: transparent;\n",
              "      border-left-color: var(--fill-color);\n",
              "      border-top-color: var(--fill-color);\n",
              "    }\n",
              "    30% {\n",
              "      border-color: transparent;\n",
              "      border-left-color: var(--fill-color);\n",
              "      border-top-color: var(--fill-color);\n",
              "      border-right-color: var(--fill-color);\n",
              "    }\n",
              "    40% {\n",
              "      border-color: transparent;\n",
              "      border-right-color: var(--fill-color);\n",
              "      border-top-color: var(--fill-color);\n",
              "    }\n",
              "    60% {\n",
              "      border-color: transparent;\n",
              "      border-right-color: var(--fill-color);\n",
              "    }\n",
              "    80% {\n",
              "      border-color: transparent;\n",
              "      border-right-color: var(--fill-color);\n",
              "      border-bottom-color: var(--fill-color);\n",
              "    }\n",
              "    90% {\n",
              "      border-color: transparent;\n",
              "      border-bottom-color: var(--fill-color);\n",
              "    }\n",
              "  }\n",
              "</style>\n",
              "\n",
              "      <script>\n",
              "        async function quickchart(key) {\n",
              "          const quickchartButtonEl =\n",
              "            document.querySelector('#' + key + ' button');\n",
              "          quickchartButtonEl.disabled = true;  // To prevent multiple clicks.\n",
              "          quickchartButtonEl.classList.add('colab-df-spinner');\n",
              "          try {\n",
              "            const charts = await google.colab.kernel.invokeFunction(\n",
              "                'suggestCharts', [key], {});\n",
              "          } catch (error) {\n",
              "            console.error('Error during call to suggestCharts:', error);\n",
              "          }\n",
              "          quickchartButtonEl.classList.remove('colab-df-spinner');\n",
              "          quickchartButtonEl.classList.add('colab-df-quickchart-complete');\n",
              "        }\n",
              "        (() => {\n",
              "          let quickchartButtonEl =\n",
              "            document.querySelector('#df-1d79adab-fc50-44da-94be-aecbb7e4a608 button');\n",
              "          quickchartButtonEl.style.display =\n",
              "            google.colab.kernel.accessAllowed ? 'block' : 'none';\n",
              "        })();\n",
              "      </script>\n",
              "    </div>\n",
              "\n",
              "    </div>\n",
              "  </div>\n"
            ],
            "application/vnd.google.colaboratory.intrinsic+json": {
              "type": "dataframe",
              "summary": "{\n  \"name\": \"loan\",\n  \"rows\": 8,\n  \"fields\": [\n    {\n      \"column\": \"Income\",\n      \"properties\": {\n        \"dtype\": \"number\",\n        \"std\": 9.146980467905703,\n        \"min\": 6.195010970090387,\n        \"max\": 34.0,\n        \"num_unique_values\": 8,\n        \"samples\": [\n          20.966666666666665,\n          20.5,\n          30.0\n        ],\n        \"semantic_type\": \"\",\n        \"description\": \"\"\n      }\n    },\n    {\n      \"column\": \"Loan Amount\",\n      \"properties\": {\n        \"dtype\": \"number\",\n        \"std\": 31.75168251666284,\n        \"min\": 8.0,\n        \"max\": 110.0,\n        \"num_unique_values\": 8,\n        \"samples\": [\n          54.233333333333334,\n          54.5,\n          30.0\n        ],\n        \"semantic_type\": \"\",\n        \"description\": \"\"\n      }\n    }\n  ]\n}"
            }
          },
          "metadata": {},
          "execution_count": 3
        }
      ]
    },
    {
      "cell_type": "code",
      "source": [
        "%matplotlib inline\n",
        "import matplotlib.pyplot as plt\n",
        "import seaborn as sns"
      ],
      "metadata": {
        "id": "kSwdcl838MDi"
      },
      "execution_count": 4,
      "outputs": []
    },
    {
      "cell_type": "code",
      "source": [
        "ax = sns.boxplot(data=loan, x='Default', y='Income')"
      ],
      "metadata": {
        "colab": {
          "base_uri": "https://localhost:8080/",
          "height": 453
        },
        "id": "MDZaPmD_8Zc0",
        "outputId": "4b21b59f-13bf-45d2-f2be-5d15453ac852"
      },
      "execution_count": 5,
      "outputs": [
        {
          "output_type": "display_data",
          "data": {
            "text/plain": [
              "<Figure size 640x480 with 1 Axes>"
            ],
            "image/png": "[encoded data removed]"
          },
          "metadata": {}
        }
      ]
    },
    {
      "cell_type": "code",
      "source": [
        "ax = sns.boxplot(data=loan, x='Default', y='Loan Amount')"
      ],
      "metadata": {
        "colab": {
          "base_uri": "https://localhost:8080/",
          "height": 449
        },
        "id": "fWRcp9Ai8lF5",
        "outputId": "891d263e-3ae6-4168-d213-db23ccd5a592"
      },
      "execution_count": 6,
      "outputs": [
        {
          "output_type": "display_data",
          "data": {
            "text/plain": [
              "<Figure size 640x480 with 1 Axes>"
            ],
            "image/png": "[encoded data removed]"
          },
          "metadata": {}
        }
      ]
    },
    {
      "cell_type": "code",
      "source": [
        "import numpy as np\n"
      ],
      "metadata": {
        "id": "B-4iU9GzbRzp"
      },
      "execution_count": 7,
      "outputs": []
    },
    {
      "cell_type": "code",
      "source": [
        "ax = sns.scatterplot(x = loan['Income'],\n",
        "                     y = np.where(loan['Default'] == 'No', 0,1),\n",
        "                    #  markers = ['*', 'o'],\n",
        "                     s = 150)"
      ],
      "metadata": {
        "colab": {
          "base_uri": "https://localhost:8080/",
          "height": 449
        },
        "id": "1BfjiA-YcCLX",
        "outputId": "deab3ddd-1e19-4914-f9b2-5fcc4863a13d"
      },
      "execution_count": 8,
      "outputs": [
        {
          "output_type": "display_data",
          "data": {
            "text/plain": [
              "<Figure size 640x480 with 1 Axes>"
            ],
            "image/png": "[encoded data removed]"
          },
          "metadata": {}
        }
      ]
    },
    {
      "cell_type": "code",
      "source": [
        "ax = sns.scatterplot(x = loan['Loan Amount'],\n",
        "                     y = np.where(loan['Default'] == 'No', 0,1),\n",
        "                    #  markers = ['*', 'o'],\n",
        "                     s = 150)"
      ],
      "metadata": {
        "colab": {
          "base_uri": "https://localhost:8080/",
          "height": 449
        },
        "id": "fjiljMZ8dBWc",
        "outputId": "408ebea1-9b7c-41e4-815e-ddf2482ead61"
      },
      "execution_count": 9,
      "outputs": [
        {
          "output_type": "display_data",
          "data": {
            "text/plain": [
              "<Figure size 640x480 with 1 Axes>"
            ],
            "image/png": "[encoded data removed]"
          },
          "metadata": {}
        }
      ]
    },
    {
      "cell_type": "markdown",
      "source": [
        "**Prepare the Data**"
      ],
      "metadata": {
        "id": "KEUQXyov7atJ"
      }
    },
    {
      "cell_type": "code",
      "source": [
        "y = loan['Default']\n",
        "x = loan[['Income', 'Loan Amount']]\n",
        "\n",
        "\n",
        "from sklearn.model_selection import train_test_split\n",
        "x_train, x_test, y_train, y_test = train_test_split(x, y, train_size=0.7,\n",
        "                                                    stratify=y, random_state=123)\n",
        "\n"
      ],
      "metadata": {
        "id": "cNhIAC9q7Yrw"
      },
      "execution_count": 10,
      "outputs": []
    },
    {
      "cell_type": "code",
      "source": [
        "x_train.shape, x_test.shape"
      ],
      "metadata": {
        "colab": {
          "base_uri": "https://localhost:8080/"
        },
        "id": "UwTReNjS8Y_v",
        "outputId": "31a47d45-7deb-42df-9b8d-abe56d88c2b9"
      },
      "execution_count": 11,
      "outputs": [
        {
          "output_type": "execute_result",
          "data": {
            "text/plain": [
              "((21, 2), (9, 2))"
            ]
          },
          "metadata": {},
          "execution_count": 11
        }
      ]
    },
    {
      "cell_type": "markdown",
      "source": [
        "**Train and Evaluate the Model**"
      ],
      "metadata": {
        "id": "EazYE6Qd8pi4"
      }
    },
    {
      "cell_type": "code",
      "source": [
        "from sklearn.linear_model import LogisticRegression\n",
        "\n",
        "classifier = LogisticRegression()\n",
        "\n",
        "model = classifier.fit(x_train, y_train)"
      ],
      "metadata": {
        "id": "iGHcOd8k8k3J"
      },
      "execution_count": 12,
      "outputs": []
    },
    {
      "cell_type": "code",
      "source": [
        "model.predict(x_test)\n",
        "\n",
        "\n"
      ],
      "metadata": {
        "colab": {
          "base_uri": "https://localhost:8080/"
        },
        "id": "Y9Jv6ugO8kvL",
        "outputId": "f296c452-fae0-4e8b-a2a8-dc396d2b75f9"
      },
      "execution_count": 13,
      "outputs": [
        {
          "output_type": "execute_result",
          "data": {
            "text/plain": [
              "array(['Yes', 'Yes', 'Yes', 'Yes', 'Yes', 'No', 'No', 'No', 'Yes'],\n",
              "      dtype=object)"
            ]
          },
          "metadata": {},
          "execution_count": 13
        }
      ]
    },
    {
      "cell_type": "code",
      "source": [
        "model.score(x_test, y_test)\n"
      ],
      "metadata": {
        "colab": {
          "base_uri": "https://localhost:8080/"
        },
        "id": "o09Z12F28koG",
        "outputId": "4701d412-9a0b-4e69-9faa-1ca0ef57c435"
      },
      "execution_count": 14,
      "outputs": [
        {
          "output_type": "execute_result",
          "data": {
            "text/plain": [
              "0.8888888888888888"
            ]
          },
          "metadata": {},
          "execution_count": 14
        }
      ]
    },
    {
      "cell_type": "code",
      "source": [
        "from sklearn.metrics import confusion_matrix\n",
        "confusion_matrix(y_test, model.predict(x_test))"
      ],
      "metadata": {
        "colab": {
          "base_uri": "https://localhost:8080/"
        },
        "id": "wvOEoQ8r8kgg",
        "outputId": "03e155ae-a66d-4597-9af0-fd2d966494f5"
      },
      "execution_count": 15,
      "outputs": [
        {
          "output_type": "execute_result",
          "data": {
            "text/plain": [
              "array([[3, 1],\n",
              "       [0, 5]])"
            ]
          },
          "metadata": {},
          "execution_count": 15
        }
      ]
    },
    {
      "cell_type": "markdown",
      "source": [
        "Confusion matrix -   ![Screenshot 2025-06-03 092355.png](data:image/png;base64,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)"
      ],
      "metadata": {
        "id": "4WLknq1c9W5b"
      }
    },
    {
      "cell_type": "markdown",
      "source": [
        "**Interpret Model**"
      ],
      "metadata": {
        "id": "Sped3eTp99N8"
      }
    },
    {
      "cell_type": "code",
      "source": [
        "model.intercept_"
      ],
      "metadata": {
        "colab": {
          "base_uri": "https://localhost:8080/"
        },
        "id": "4E1oAOaC8kVo",
        "outputId": "daf3a270-6597-4a7e-c117-31772c87d9cb"
      },
      "execution_count": 16,
      "outputs": [
        {
          "output_type": "execute_result",
          "data": {
            "text/plain": [
              "array([15.4670632])"
            ]
          },
          "metadata": {},
          "execution_count": 16
        }
      ]
    },
    {
      "cell_type": "code",
      "source": [
        "model.coef_"
      ],
      "metadata": {
        "colab": {
          "base_uri": "https://localhost:8080/"
        },
        "id": "UTFgOTlr95OE",
        "outputId": "940d9b52-fda1-4bc2-a99e-973a0677ca93"
      },
      "execution_count": 17,
      "outputs": [
        {
          "output_type": "execute_result",
          "data": {
            "text/plain": [
              "array([[-1.0178107 ,  0.14656096]])"
            ]
          },
          "metadata": {},
          "execution_count": 17
        }
      ]
    },
    {
      "cell_type": "markdown",
      "source": [
        "![Screenshot 2025-06-03 092900.png](data:image/png;base64,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)"
      ],
      "metadata": {
        "id": "xKbSIaKP-5WV"
      }
    },
    {
      "cell_type": "code",
      "source": [
        "log_odds = np.round(model.coef_[0], 2)\n",
        "log_odds"
      ],
      "metadata": {
        "colab": {
          "base_uri": "https://localhost:8080/"
        },
        "id": "SJgC9mTx95Fz",
        "outputId": "cc9ea1a2-ca71-4dcf-88db-dcd62df76689"
      },
      "execution_count": 20,
      "outputs": [
        {
          "output_type": "execute_result",
          "data": {
            "text/plain": [
              "array([-1.02,  0.15])"
            ]
          },
          "metadata": {},
          "execution_count": 20
        }
      ]
    },
    {
      "cell_type": "code",
      "source": [
        "pd.DataFrame({'log odds': log_odds}, index=x.columns)"
      ],
      "metadata": {
        "colab": {
          "base_uri": "https://localhost:8080/",
          "height": 112
        },
        "id": "gD5nVr5V949r",
        "outputId": "514b69ef-e04e-41a7-fc2e-88c4bda19ea8"
      },
      "execution_count": 21,
      "outputs": [
        {
          "output_type": "execute_result",
          "data": {
            "text/plain": [
              "             log odds\n",
              "Income          -1.02\n",
              "Loan Amount      0.15"
            ],
            "text/html": [
              "\n",
              "  <div id=\"df-409cbe50-47db-4f15-9545-d5479eb14854\" class=\"colab-df-container\">\n",
              "    <div>\n",
              "<style scoped>\n",
              "    .dataframe tbody tr th:only-of-type {\n",
              "        vertical-align: middle;\n",
              "    }\n",
              "\n",
              "    .dataframe tbody tr th {\n",
              "        vertical-align: top;\n",
              "    }\n",
              "\n",
              "    .dataframe thead th {\n",
              "        text-align: right;\n",
              "    }\n",
              "</style>\n",
              "<table border=\"1\" class=\"dataframe\">\n",
              "  <thead>\n",
              "    <tr style=\"text-align: right;\">\n",
              "      <th></th>\n",
              "      <th>log odds</th>\n",
              "    </tr>\n",
              "  </thead>\n",
              "  <tbody>\n",
              "    <tr>\n",
              "      <th>Income</th>\n",
              "      <td>-1.02</td>\n",
              "    </tr>\n",
              "    <tr>\n",
              "      <th>Loan Amount</th>\n",
              "      <td>0.15</td>\n",
              "    </tr>\n",
              "  </tbody>\n",
              "</table>\n",
              "</div>\n",
              "    <div class=\"colab-df-buttons\">\n",
              "\n",
              "  <div class=\"colab-df-container\">\n",
              "    <button class=\"colab-df-convert\" onclick=\"convertToInteractive('df-409cbe50-47db-4f15-9545-d5479eb14854')\"\n",
              "            title=\"Convert this dataframe to an interactive table.\"\n",
              "            style=\"display:none;\">\n",
              "\n",
              "  <svg xmlns=\"http://www.w3.org/2000/svg\" height=\"24px\" viewBox=\"0 -960 960 960\">\n",
              "    <path d=\"M120-120v-720h720v720H120Zm60-500h600v-160H180v160Zm220 220h160v-160H400v160Zm0 220h160v-160H400v160ZM180-400h160v-160H180v160Zm440 0h160v-160H620v160ZM180-180h160v-160H180v160Zm440 0h160v-160H620v160Z\"/>\n",
              "  </svg>\n",
              "    </button>\n",
              "\n",
              "  <style>\n",
              "    .colab-df-container {\n",
              "      display:flex;\n",
              "      gap: 12px;\n",
              "    }\n",
              "\n",
              "    .colab-df-convert {\n",
              "      background-color: #E8F0FE;\n",
              "      border: none;\n",
              "      border-radius: 50%;\n",
              "      cursor: pointer;\n",
              "      display: none;\n",
              "      fill: #1967D2;\n",
              "      height: 32px;\n",
              "      padding: 0 0 0 0;\n",
              "      width: 32px;\n",
              "    }\n",
              "\n",
              "    .colab-df-convert:hover {\n",
              "      background-color: #E2EBFA;\n",
              "      box-shadow: 0px 1px 2px rgba(60, 64, 67, 0.3), 0px 1px 3px 1px rgba(60, 64, 67, 0.15);\n",
              "      fill: #174EA6;\n",
              "    }\n",
              "\n",
              "    .colab-df-buttons div {\n",
              "      margin-bottom: 4px;\n",
              "    }\n",
              "\n",
              "    [theme=dark] .colab-df-convert {\n",
              "      background-color: #3B4455;\n",
              "      fill: #D2E3FC;\n",
              "    }\n",
              "\n",
              "    [theme=dark] .colab-df-convert:hover {\n",
              "      background-color: #434B5C;\n",
              "      box-shadow: 0px 1px 3px 1px rgba(0, 0, 0, 0.15);\n",
              "      filter: drop-shadow(0px 1px 2px rgba(0, 0, 0, 0.3));\n",
              "      fill: #FFFFFF;\n",
              "    }\n",
              "  </style>\n",
              "\n",
              "    <script>\n",
              "      const buttonEl =\n",
              "        document.querySelector('#df-409cbe50-47db-4f15-9545-d5479eb14854 button.colab-df-convert');\n",
              "      buttonEl.style.display =\n",
              "        google.colab.kernel.accessAllowed ? 'block' : 'none';\n",
              "\n",
              "      async function convertToInteractive(key) {\n",
              "        const element = document.querySelector('#df-409cbe50-47db-4f15-9545-d5479eb14854');\n",
              "        const dataTable =\n",
              "          await google.colab.kernel.invokeFunction('convertToInteractive',\n",
              "                                                    [key], {});\n",
              "        if (!dataTable) return;\n",
              "\n",
              "        const docLinkHtml = 'Like what you see? Visit the ' +\n",
              "          '<a target=\"_blank\" href=https://colab.research.google.com/notebooks/data_table.ipynb>data table notebook</a>'\n",
              "          + ' to learn more about interactive tables.';\n",
              "        element.innerHTML = '';\n",
              "        dataTable['output_type'] = 'display_data';\n",
              "        await google.colab.output.renderOutput(dataTable, element);\n",
              "        const docLink = document.createElement('div');\n",
              "        docLink.innerHTML = docLinkHtml;\n",
              "        element.appendChild(docLink);\n",
              "      }\n",
              "    </script>\n",
              "  </div>\n",
              "\n",
              "\n",
              "    <div id=\"df-060d7a7a-0361-4943-b14a-2389ec723dfa\">\n",
              "      <button class=\"colab-df-quickchart\" onclick=\"quickchart('df-060d7a7a-0361-4943-b14a-2389ec723dfa')\"\n",
              "                title=\"Suggest charts\"\n",
              "                style=\"display:none;\">\n",
              "\n",
              "<svg xmlns=\"http://www.w3.org/2000/svg\" height=\"24px\"viewBox=\"0 0 24 24\"\n",
              "     width=\"24px\">\n",
              "    <g>\n",
              "        <path d=\"M19 3H5c-1.1 0-2 .9-2 2v14c0 1.1.9 2 2 2h14c1.1 0 2-.9 2-2V5c0-1.1-.9-2-2-2zM9 17H7v-7h2v7zm4 0h-2V7h2v10zm4 0h-2v-4h2v4z\"/>\n",
              "    </g>\n",
              "</svg>\n",
              "      </button>\n",
              "\n",
              "<style>\n",
              "  .colab-df-quickchart {\n",
              "      --bg-color: #E8F0FE;\n",
              "      --fill-color: #1967D2;\n",
              "      --hover-bg-color: #E2EBFA;\n",
              "      --hover-fill-color: #174EA6;\n",
              "      --disabled-fill-color: #AAA;\n",
              "      --disabled-bg-color: #DDD;\n",
              "  }\n",
              "\n",
              "  [theme=dark] .colab-df-quickchart {\n",
              "      --bg-color: #3B4455;\n",
              "      --fill-color: #D2E3FC;\n",
              "      --hover-bg-color: #434B5C;\n",
              "      --hover-fill-color: #FFFFFF;\n",
              "      --disabled-bg-color: #3B4455;\n",
              "      --disabled-fill-color: #666;\n",
              "  }\n",
              "\n",
              "  .colab-df-quickchart {\n",
              "    background-color: var(--bg-color);\n",
              "    border: none;\n",
              "    border-radius: 50%;\n",
              "    cursor: pointer;\n",
              "    display: none;\n",
              "    fill: var(--fill-color);\n",
              "    height: 32px;\n",
              "    padding: 0;\n",
              "    width: 32px;\n",
              "  }\n",
              "\n",
              "  .colab-df-quickchart:hover {\n",
              "    background-color: var(--hover-bg-color);\n",
              "    box-shadow: 0 1px 2px rgba(60, 64, 67, 0.3), 0 1px 3px 1px rgba(60, 64, 67, 0.15);\n",
              "    fill: var(--button-hover-fill-color);\n",
              "  }\n",
              "\n",
              "  .colab-df-quickchart-complete:disabled,\n",
              "  .colab-df-quickchart-complete:disabled:hover {\n",
              "    background-color: var(--disabled-bg-color);\n",
              "    fill: var(--disabled-fill-color);\n",
              "    box-shadow: none;\n",
              "  }\n",
              "\n",
              "  .colab-df-spinner {\n",
              "    border: 2px solid var(--fill-color);\n",
              "    border-color: transparent;\n",
              "    border-bottom-color: var(--fill-color);\n",
              "    animation:\n",
              "      spin 1s steps(1) infinite;\n",
              "  }\n",
              "\n",
              "  @keyframes spin {\n",
              "    0% {\n",
              "      border-color: transparent;\n",
              "      border-bottom-color: var(--fill-color);\n",
              "      border-left-color: var(--fill-color);\n",
              "    }\n",
              "    20% {\n",
              "      border-color: transparent;\n",
              "      border-left-color: var(--fill-color);\n",
              "      border-top-color: var(--fill-color);\n",
              "    }\n",
              "    30% {\n",
              "      border-color: transparent;\n",
              "      border-left-color: var(--fill-color);\n",
              "      border-top-color: var(--fill-color);\n",
              "      border-right-color: var(--fill-color);\n",
              "    }\n",
              "    40% {\n",
              "      border-color: transparent;\n",
              "      border-right-color: var(--fill-color);\n",
              "      border-top-color: var(--fill-color);\n",
              "    }\n",
              "    60% {\n",
              "      border-color: transparent;\n",
              "      border-right-color: var(--fill-color);\n",
              "    }\n",
              "    80% {\n",
              "      border-color: transparent;\n",
              "      border-right-color: var(--fill-color);\n",
              "      border-bottom-color: var(--fill-color);\n",
              "    }\n",
              "    90% {\n",
              "      border-color: transparent;\n",
              "      border-bottom-color: var(--fill-color);\n",
              "    }\n",
              "  }\n",
              "</style>\n",
              "\n",
              "      <script>\n",
              "        async function quickchart(key) {\n",
              "          const quickchartButtonEl =\n",
              "            document.querySelector('#' + key + ' button');\n",
              "          quickchartButtonEl.disabled = true;  // To prevent multiple clicks.\n",
              "          quickchartButtonEl.classList.add('colab-df-spinner');\n",
              "          try {\n",
              "            const charts = await google.colab.kernel.invokeFunction(\n",
              "                'suggestCharts', [key], {});\n",
              "          } catch (error) {\n",
              "            console.error('Error during call to suggestCharts:', error);\n",
              "          }\n",
              "          quickchartButtonEl.classList.remove('colab-df-spinner');\n",
              "          quickchartButtonEl.classList.add('colab-df-quickchart-complete');\n",
              "        }\n",
              "        (() => {\n",
              "          let quickchartButtonEl =\n",
              "            document.querySelector('#df-060d7a7a-0361-4943-b14a-2389ec723dfa button');\n",
              "          quickchartButtonEl.style.display =\n",
              "            google.colab.kernel.accessAllowed ? 'block' : 'none';\n",
              "        })();\n",
              "      </script>\n",
              "    </div>\n",
              "\n",
              "    </div>\n",
              "  </div>\n"
            ],
            "application/vnd.google.colaboratory.intrinsic+json": {
              "type": "dataframe",
              "summary": "{\n  \"name\": \"pd\",\n  \"rows\": 2,\n  \"fields\": [\n    {\n      \"column\": \"log odds\",\n      \"properties\": {\n        \"dtype\": \"number\",\n        \"std\": 0.8273149339882605,\n        \"min\": -1.02,\n        \"max\": 0.15,\n        \"num_unique_values\": 2,\n        \"samples\": [\n          0.15,\n          -1.02\n        ],\n        \"semantic_type\": \"\",\n        \"description\": \"\"\n      }\n    }\n  ]\n}"
            }
          },
          "metadata": {},
          "execution_count": 21
        }
      ]
    },
    {
      "cell_type": "code",
      "source": [
        "odds = np.round(np.exp(log_odds), 2)\n",
        "\n",
        "pd.DataFrame({'odds': odds}, index=x.columns)\n"
      ],
      "metadata": {
        "colab": {
          "base_uri": "https://localhost:8080/",
          "height": 112
        },
        "id": "N6v2h6gh_lOu",
        "outputId": "2b1fd73c-178a-45f5-bfd8-703bfe0a0632"
      },
      "execution_count": 22,
      "outputs": [
        {
          "output_type": "execute_result",
          "data": {
            "text/plain": [
              "             odds\n",
              "Income       0.36\n",
              "Loan Amount  1.16"
            ],
            "text/html": [
              "\n",
              "  <div id=\"df-694ccd71-dc79-4f4c-a363-eb8c4d4445fa\" class=\"colab-df-container\">\n",
              "    <div>\n",
              "<style scoped>\n",
              "    .dataframe tbody tr th:only-of-type {\n",
              "        vertical-align: middle;\n",
              "    }\n",
              "\n",
              "    .dataframe tbody tr th {\n",
              "        vertical-align: top;\n",
              "    }\n",
              "\n",
              "    .dataframe thead th {\n",
              "        text-align: right;\n",
              "    }\n",
              "</style>\n",
              "<table border=\"1\" class=\"dataframe\">\n",
              "  <thead>\n",
              "    <tr style=\"text-align: right;\">\n",
              "      <th></th>\n",
              "      <th>odds</th>\n",
              "    </tr>\n",
              "  </thead>\n",
              "  <tbody>\n",
              "    <tr>\n",
              "      <th>Income</th>\n",
              "      <td>0.36</td>\n",
              "    </tr>\n",
              "    <tr>\n",
              "      <th>Loan Amount</th>\n",
              "      <td>1.16</td>\n",
              "    </tr>\n",
              "  </tbody>\n",
              "</table>\n",
              "</div>\n",
              "    <div class=\"colab-df-buttons\">\n",
              "\n",
              "  <div class=\"colab-df-container\">\n",
              "    <button class=\"colab-df-convert\" onclick=\"convertToInteractive('df-694ccd71-dc79-4f4c-a363-eb8c4d4445fa')\"\n",
              "            title=\"Convert this dataframe to an interactive table.\"\n",
              "            style=\"display:none;\">\n",
              "\n",
              "  <svg xmlns=\"http://www.w3.org/2000/svg\" height=\"24px\" viewBox=\"0 -960 960 960\">\n",
              "    <path d=\"M120-120v-720h720v720H120Zm60-500h600v-160H180v160Zm220 220h160v-160H400v160Zm0 220h160v-160H400v160ZM180-400h160v-160H180v160Zm440 0h160v-160H620v160ZM180-180h160v-160H180v160Zm440 0h160v-160H620v160Z\"/>\n",
              "  </svg>\n",
              "    </button>\n",
              "\n",
              "  <style>\n",
              "    .colab-df-container {\n",
              "      display:flex;\n",
              "      gap: 12px;\n",
              "    }\n",
              "\n",
              "    .colab-df-convert {\n",
              "      background-color: #E8F0FE;\n",
              "      border: none;\n",
              "      border-radius: 50%;\n",
              "      cursor: pointer;\n",
              "      display: none;\n",
              "      fill: #1967D2;\n",
              "      height: 32px;\n",
              "      padding: 0 0 0 0;\n",
              "      width: 32px;\n",
              "    }\n",
              "\n",
              "    .colab-df-convert:hover {\n",
              "      background-color: #E2EBFA;\n",
              "      box-shadow: 0px 1px 2px rgba(60, 64, 67, 0.3), 0px 1px 3px 1px rgba(60, 64, 67, 0.15);\n",
              "      fill: #174EA6;\n",
              "    }\n",
              "\n",
              "    .colab-df-buttons div {\n",
              "      margin-bottom: 4px;\n",
              "    }\n",
              "\n",
              "    [theme=dark] .colab-df-convert {\n",
              "      background-color: #3B4455;\n",
              "      fill: #D2E3FC;\n",
              "    }\n",
              "\n",
              "    [theme=dark] .colab-df-convert:hover {\n",
              "      background-color: #434B5C;\n",
              "      box-shadow: 0px 1px 3px 1px rgba(0, 0, 0, 0.15);\n",
              "      filter: drop-shadow(0px 1px 2px rgba(0, 0, 0, 0.3));\n",
              "      fill: #FFFFFF;\n",
              "    }\n",
              "  </style>\n",
              "\n",
              "    <script>\n",
              "      const buttonEl =\n",
              "        document.querySelector('#df-694ccd71-dc79-4f4c-a363-eb8c4d4445fa button.colab-df-convert');\n",
              "      buttonEl.style.display =\n",
              "        google.colab.kernel.accessAllowed ? 'block' : 'none';\n",
              "\n",
              "      async function convertToInteractive(key) {\n",
              "        const element = document.querySelector('#df-694ccd71-dc79-4f4c-a363-eb8c4d4445fa');\n",
              "        const dataTable =\n",
              "          await google.colab.kernel.invokeFunction('convertToInteractive',\n",
              "                                                    [key], {});\n",
              "        if (!dataTable) return;\n",
              "\n",
              "        const docLinkHtml = 'Like what you see? Visit the ' +\n",
              "          '<a target=\"_blank\" href=https://colab.research.google.com/notebooks/data_table.ipynb>data table notebook</a>'\n",
              "          + ' to learn more about interactive tables.';\n",
              "        element.innerHTML = '';\n",
              "        dataTable['output_type'] = 'display_data';\n",
              "        await google.colab.output.renderOutput(dataTable, element);\n",
              "        const docLink = document.createElement('div');\n",
              "        docLink.innerHTML = docLinkHtml;\n",
              "        element.appendChild(docLink);\n",
              "      }\n",
              "    </script>\n",
              "  </div>\n",
              "\n",
              "\n",
              "    <div id=\"df-66f8b025-7ccf-4fa6-8e68-0b930d3e4963\">\n",
              "      <button class=\"colab-df-quickchart\" onclick=\"quickchart('df-66f8b025-7ccf-4fa6-8e68-0b930d3e4963')\"\n",
              "                title=\"Suggest charts\"\n",
              "                style=\"display:none;\">\n",
              "\n",
              "<svg xmlns=\"http://www.w3.org/2000/svg\" height=\"24px\"viewBox=\"0 0 24 24\"\n",
              "     width=\"24px\">\n",
              "    <g>\n",
              "        <path d=\"M19 3H5c-1.1 0-2 .9-2 2v14c0 1.1.9 2 2 2h14c1.1 0 2-.9 2-2V5c0-1.1-.9-2-2-2zM9 17H7v-7h2v7zm4 0h-2V7h2v10zm4 0h-2v-4h2v4z\"/>\n",
              "    </g>\n",
              "</svg>\n",
              "      </button>\n",
              "\n",
              "<style>\n",
              "  .colab-df-quickchart {\n",
              "      --bg-color: #E8F0FE;\n",
              "      --fill-color: #1967D2;\n",
              "      --hover-bg-color: #E2EBFA;\n",
              "      --hover-fill-color: #174EA6;\n",
              "      --disabled-fill-color: #AAA;\n",
              "      --disabled-bg-color: #DDD;\n",
              "  }\n",
              "\n",
              "  [theme=dark] .colab-df-quickchart {\n",
              "      --bg-color: #3B4455;\n",
              "      --fill-color: #D2E3FC;\n",
              "      --hover-bg-color: #434B5C;\n",
              "      --hover-fill-color: #FFFFFF;\n",
              "      --disabled-bg-color: #3B4455;\n",
              "      --disabled-fill-color: #666;\n",
              "  }\n",
              "\n",
              "  .colab-df-quickchart {\n",
              "    background-color: var(--bg-color);\n",
              "    border: none;\n",
              "    border-radius: 50%;\n",
              "    cursor: pointer;\n",
              "    display: none;\n",
              "    fill: var(--fill-color);\n",
              "    height: 32px;\n",
              "    padding: 0;\n",
              "    width: 32px;\n",
              "  }\n",
              "\n",
              "  .colab-df-quickchart:hover {\n",
              "    background-color: var(--hover-bg-color);\n",
              "    box-shadow: 0 1px 2px rgba(60, 64, 67, 0.3), 0 1px 3px 1px rgba(60, 64, 67, 0.15);\n",
              "    fill: var(--button-hover-fill-color);\n",
              "  }\n",
              "\n",
              "  .colab-df-quickchart-complete:disabled,\n",
              "  .colab-df-quickchart-complete:disabled:hover {\n",
              "    background-color: var(--disabled-bg-color);\n",
              "    fill: var(--disabled-fill-color);\n",
              "    box-shadow: none;\n",
              "  }\n",
              "\n",
              "  .colab-df-spinner {\n",
              "    border: 2px solid var(--fill-color);\n",
              "    border-color: transparent;\n",
              "    border-bottom-color: var(--fill-color);\n",
              "    animation:\n",
              "      spin 1s steps(1) infinite;\n",
              "  }\n",
              "\n",
              "  @keyframes spin {\n",
              "    0% {\n",
              "      border-color: transparent;\n",
              "      border-bottom-color: var(--fill-color);\n",
              "      border-left-color: var(--fill-color);\n",
              "    }\n",
              "    20% {\n",
              "      border-color: transparent;\n",
              "      border-left-color: var(--fill-color);\n",
              "      border-top-color: var(--fill-color);\n",
              "    }\n",
              "    30% {\n",
              "      border-color: transparent;\n",
              "      border-left-color: var(--fill-color);\n",
              "      border-top-color: var(--fill-color);\n",
              "      border-right-color: var(--fill-color);\n",
              "    }\n",
              "    40% {\n",
              "      border-color: transparent;\n",
              "      border-right-color: var(--fill-color);\n",
              "      border-top-color: var(--fill-color);\n",
              "    }\n",
              "    60% {\n",
              "      border-color: transparent;\n",
              "      border-right-color: var(--fill-color);\n",
              "    }\n",
              "    80% {\n",
              "      border-color: transparent;\n",
              "      border-right-color: var(--fill-color);\n",
              "      border-bottom-color: var(--fill-color);\n",
              "    }\n",
              "    90% {\n",
              "      border-color: transparent;\n",
              "      border-bottom-color: var(--fill-color);\n",
              "    }\n",
              "  }\n",
              "</style>\n",
              "\n",
              "      <script>\n",
              "        async function quickchart(key) {\n",
              "          const quickchartButtonEl =\n",
              "            document.querySelector('#' + key + ' button');\n",
              "          quickchartButtonEl.disabled = true;  // To prevent multiple clicks.\n",
              "          quickchartButtonEl.classList.add('colab-df-spinner');\n",
              "          try {\n",
              "            const charts = await google.colab.kernel.invokeFunction(\n",
              "                'suggestCharts', [key], {});\n",
              "          } catch (error) {\n",
              "            console.error('Error during call to suggestCharts:', error);\n",
              "          }\n",
              "          quickchartButtonEl.classList.remove('colab-df-spinner');\n",
              "          quickchartButtonEl.classList.add('colab-df-quickchart-complete');\n",
              "        }\n",
              "        (() => {\n",
              "          let quickchartButtonEl =\n",
              "            document.querySelector('#df-66f8b025-7ccf-4fa6-8e68-0b930d3e4963 button');\n",
              "          quickchartButtonEl.style.display =\n",
              "            google.colab.kernel.accessAllowed ? 'block' : 'none';\n",
              "        })();\n",
              "      </script>\n",
              "    </div>\n",
              "\n",
              "    </div>\n",
              "  </div>\n"
            ],
            "application/vnd.google.colaboratory.intrinsic+json": {
              "type": "dataframe",
              "summary": "{\n  \"name\": \"pd\",\n  \"rows\": 2,\n  \"fields\": [\n    {\n      \"column\": \"odds\",\n      \"properties\": {\n        \"dtype\": \"number\",\n        \"std\": 0.565685424949238,\n        \"min\": 0.36,\n        \"max\": 1.16,\n        \"num_unique_values\": 2,\n        \"samples\": [\n          1.16,\n          0.36\n        ],\n        \"semantic_type\": \"\",\n        \"description\": \"\"\n      }\n    }\n  ]\n}"
            }
          },
          "metadata": {},
          "execution_count": 22
        }
      ]
    }
  ]
}